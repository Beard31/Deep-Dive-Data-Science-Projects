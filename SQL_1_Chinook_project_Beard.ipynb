{
  "nbformat": 4,
  "nbformat_minor": 0,
  "metadata": {
    "colab": {
      "provenance": [],
      "include_colab_link": true
    },
    "kernelspec": {
      "name": "python3",
      "display_name": "Python 3"
    },
    "language_info": {
      "name": "python"
    }
  },
  "cells": [
    {
      "cell_type": "markdown",
      "metadata": {
        "id": "view-in-github",
        "colab_type": "text"
      },
      "source": [
        "<a href=\"https://colab.research.google.com/github/Beard31/Deep-Dive-Data-Science-Projects/blob/main/SQL_1_Chinook_project_Beard.ipynb\" target=\"_parent\"><img src=\"https://colab.research.google.com/assets/colab-badge.svg\" alt=\"Open In Colab\"/></a>"
      ]
    },
    {
      "cell_type": "markdown",
      "source": [
        "# Project SQL - Chinook\n"
      ],
      "metadata": {
        "id": "cJG_e1vK2NMI"
      }
    },
    {
      "cell_type": "markdown",
      "source": [
        "## Chinook data set\n",
        "\n",
        "See the lecture on SQLite3 using the Chinook data set to set up the software, database, and tables, as well as for the links to ancillary information about the data set.\n"
      ],
      "metadata": {
        "id": "s6jMcIbW3P5o"
      }
    },
    {
      "cell_type": "code",
      "source": [
        "# Install the sqlite package for Ubuntu\n",
        "# Download the Chinook sqlite database\n",
        "import sqlite3 as db\n",
        "import pandas as pd"
      ],
      "metadata": {
        "id": "UhFW0uTR6Jfv"
      },
      "execution_count": null,
      "outputs": []
    },
    {
      "cell_type": "code",
      "source": [
        "%%capture\n",
        "%%bash\n",
        "apt-get update\n",
        "apt-get install -y sqlite3"
      ],
      "metadata": {
        "id": "OuFQnls__CFt"
      },
      "execution_count": null,
      "outputs": []
    },
    {
      "cell_type": "code",
      "source": [
        "%%bash\n",
        "[ -f chinook.zip ] ||\n",
        "  curl -s -O https://www.sqlitetutorial.net/wp-content/uploads/2018/03/chinook.zip\n",
        "unzip -l chinook.zip"
      ],
      "metadata": {
        "id": "4raQR9uf_eiS",
        "outputId": "86bc2cc4-4ee4-4128-afe9-5f63b942be7d",
        "colab": {
          "base_uri": "https://localhost:8080/"
        }
      },
      "execution_count": null,
      "outputs": [
        {
          "output_type": "stream",
          "name": "stdout",
          "text": [
            "Archive:  chinook.zip\n",
            "  Length      Date    Time    Name\n",
            "---------  ---------- -----   ----\n",
            "   884736  2015-11-29 10:53   chinook.db\n",
            "---------                     -------\n",
            "   884736                     1 file\n"
          ]
        }
      ]
    },
    {
      "cell_type": "code",
      "source": [
        "!rm -f chinook.db"
      ],
      "metadata": {
        "id": "PbXeS7H4_voC"
      },
      "execution_count": null,
      "outputs": []
    },
    {
      "cell_type": "code",
      "source": [
        "!unzip -u chinook.zip"
      ],
      "metadata": {
        "id": "zbUOPKDL_1lD",
        "outputId": "702b79a5-1ded-41e7-e715-7b1c43b8b790",
        "colab": {
          "base_uri": "https://localhost:8080/"
        }
      },
      "execution_count": null,
      "outputs": [
        {
          "output_type": "stream",
          "name": "stdout",
          "text": [
            "Archive:  chinook.zip\n",
            "  inflating: chinook.db              \n"
          ]
        }
      ]
    },
    {
      "cell_type": "code",
      "source": [
        "!ls -la"
      ],
      "metadata": {
        "id": "kebnv5Nf_47b",
        "outputId": "a3d4e164-0cf3-4aa4-cdfe-7dccded02d71",
        "colab": {
          "base_uri": "https://localhost:8080/"
        }
      },
      "execution_count": null,
      "outputs": [
        {
          "output_type": "stream",
          "name": "stdout",
          "text": [
            "total 1180\n",
            "drwxr-xr-x 1 root root   4096 Feb 24 06:31 .\n",
            "drwxr-xr-x 1 root root   4096 Feb 24 06:30 ..\n",
            "-rw-r--r-- 1 root root 884736 Nov 29  2015 chinook.db\n",
            "-rw-r--r-- 1 root root 305596 Feb 24 06:31 chinook.zip\n",
            "drwxr-xr-x 4 root root   4096 Feb 20 14:24 .config\n",
            "drwxr-xr-x 1 root root   4096 Feb 20 14:24 sample_data\n"
          ]
        }
      ]
    },
    {
      "cell_type": "markdown",
      "source": [],
      "metadata": {
        "id": "Uml4hsGKDNmV"
      }
    },
    {
      "cell_type": "markdown",
      "source": [
        "## Come up with questions about your data\n",
        "Have a look at the Entity-Relation ( ER ) diagram to help come up with questions.\n",
        "\n",
        "* What sort of information is in this dataset?\n",
        "* How many records are there?\n",
        "* How many different countries (states, counties, cities, etc) have records in this data set?\n",
        "\n",
        "\n",
        "If you are stuck, here are some ideas for questions:\n",
        "- https://github.com/LucasMcL/15-sql_queries_02-chinook/blob/master/README.md\n",
        "- [Using the R language]( https://rpubs.com/enext777/636199 )\n",
        "- [Search Google]( https://www.google.com/search?q=chinook+database+questions )\n",
        "\n"
      ],
      "metadata": {
        "id": "OA9Mp38s52x2"
      }
    },
    {
      "cell_type": "code",
      "source": [
        "# Connect to a sqlite database and load a result set into a data frame\n",
        "db_con = db.connect(\"chinook.db\")"
      ],
      "metadata": {
        "id": "D3K0x2QiWlup"
      },
      "execution_count": null,
      "outputs": []
    },
    {
      "cell_type": "code",
      "source": [
        "# Select the first 10 entries from the employees table\n",
        "query = '''\n",
        "  select *\n",
        "  from employees\n",
        "  limit 10\n",
        "'''\n",
        "\n",
        "employees = pd.read_sql_query( query , db_con)\n",
        "employees"
      ],
      "metadata": {
        "colab": {
          "base_uri": "https://localhost:8080/"
        },
        "collapsed": true,
        "id": "btjs0l9PT9uJ",
        "outputId": "8c00f8f8-e5fb-4d54-a5ca-f6a069603485"
      },
      "execution_count": null,
      "outputs": [
        {
          "output_type": "execute_result",
          "data": {
            "text/plain": [
              "   EmployeeId  LastName FirstName                Title  ReportsTo  \\\n",
              "0           1     Adams    Andrew      General Manager        NaN   \n",
              "1           2   Edwards     Nancy        Sales Manager        1.0   \n",
              "2           3   Peacock      Jane  Sales Support Agent        2.0   \n",
              "3           4      Park  Margaret  Sales Support Agent        2.0   \n",
              "4           5   Johnson     Steve  Sales Support Agent        2.0   \n",
              "5           6  Mitchell   Michael           IT Manager        1.0   \n",
              "6           7      King    Robert             IT Staff        6.0   \n",
              "7           8  Callahan     Laura             IT Staff        6.0   \n",
              "\n",
              "             BirthDate             HireDate                      Address  \\\n",
              "0  1962-02-18 00:00:00  2002-08-14 00:00:00          11120 Jasper Ave NW   \n",
              "1  1958-12-08 00:00:00  2002-05-01 00:00:00                 825 8 Ave SW   \n",
              "2  1973-08-29 00:00:00  2002-04-01 00:00:00                1111 6 Ave SW   \n",
              "3  1947-09-19 00:00:00  2003-05-03 00:00:00             683 10 Street SW   \n",
              "4  1965-03-03 00:00:00  2003-10-17 00:00:00                 7727B 41 Ave   \n",
              "5  1973-07-01 00:00:00  2003-10-17 00:00:00         5827 Bowness Road NW   \n",
              "6  1970-05-29 00:00:00  2004-01-02 00:00:00  590 Columbia Boulevard West   \n",
              "7  1968-01-09 00:00:00  2004-03-04 00:00:00                  923 7 ST NW   \n",
              "\n",
              "         City State Country PostalCode              Phone                Fax  \\\n",
              "0    Edmonton    AB  Canada    T5K 2N1  +1 (780) 428-9482  +1 (780) 428-3457   \n",
              "1     Calgary    AB  Canada    T2P 2T3  +1 (403) 262-3443  +1 (403) 262-3322   \n",
              "2     Calgary    AB  Canada    T2P 5M5  +1 (403) 262-3443  +1 (403) 262-6712   \n",
              "3     Calgary    AB  Canada    T2P 5G3  +1 (403) 263-4423  +1 (403) 263-4289   \n",
              "4     Calgary    AB  Canada    T3B 1Y7   1 (780) 836-9987   1 (780) 836-9543   \n",
              "5     Calgary    AB  Canada    T3B 0C5  +1 (403) 246-9887  +1 (403) 246-9899   \n",
              "6  Lethbridge    AB  Canada    T1K 5N8  +1 (403) 456-9986  +1 (403) 456-8485   \n",
              "7  Lethbridge    AB  Canada    T1H 1Y8  +1 (403) 467-3351  +1 (403) 467-8772   \n",
              "\n",
              "                      Email  \n",
              "0    andrew@chinookcorp.com  \n",
              "1     nancy@chinookcorp.com  \n",
              "2      jane@chinookcorp.com  \n",
              "3  margaret@chinookcorp.com  \n",
              "4     steve@chinookcorp.com  \n",
              "5   michael@chinookcorp.com  \n",
              "6    robert@chinookcorp.com  \n",
              "7     laura@chinookcorp.com  "
            ],
            "text/html": [
              "\n",
              "  <div id=\"df-984d61ef-2963-4fe6-a228-bff9c35044ee\" class=\"colab-df-container\">\n",
              "    <div>\n",
              "<style scoped>\n",
              "    .dataframe tbody tr th:only-of-type {\n",
              "        vertical-align: middle;\n",
              "    }\n",
              "\n",
              "    .dataframe tbody tr th {\n",
              "        vertical-align: top;\n",
              "    }\n",
              "\n",
              "    .dataframe thead th {\n",
              "        text-align: right;\n",
              "    }\n",
              "</style>\n",
              "<table border=\"1\" class=\"dataframe\">\n",
              "  <thead>\n",
              "    <tr style=\"text-align: right;\">\n",
              "      <th></th>\n",
              "      <th>EmployeeId</th>\n",
              "      <th>LastName</th>\n",
              "      <th>FirstName</th>\n",
              "      <th>Title</th>\n",
              "      <th>ReportsTo</th>\n",
              "      <th>BirthDate</th>\n",
              "      <th>HireDate</th>\n",
              "      <th>Address</th>\n",
              "      <th>City</th>\n",
              "      <th>State</th>\n",
              "      <th>Country</th>\n",
              "      <th>PostalCode</th>\n",
              "      <th>Phone</th>\n",
              "      <th>Fax</th>\n",
              "      <th>Email</th>\n",
              "    </tr>\n",
              "  </thead>\n",
              "  <tbody>\n",
              "    <tr>\n",
              "      <th>0</th>\n",
              "      <td>1</td>\n",
              "      <td>Adams</td>\n",
              "      <td>Andrew</td>\n",
              "      <td>General Manager</td>\n",
              "      <td>NaN</td>\n",
              "      <td>1962-02-18 00:00:00</td>\n",
              "      <td>2002-08-14 00:00:00</td>\n",
              "      <td>11120 Jasper Ave NW</td>\n",
              "      <td>Edmonton</td>\n",
              "      <td>AB</td>\n",
              "      <td>Canada</td>\n",
              "      <td>T5K 2N1</td>\n",
              "      <td>+1 (780) 428-9482</td>\n",
              "      <td>+1 (780) 428-3457</td>\n",
              "      <td>andrew@chinookcorp.com</td>\n",
              "    </tr>\n",
              "    <tr>\n",
              "      <th>1</th>\n",
              "      <td>2</td>\n",
              "      <td>Edwards</td>\n",
              "      <td>Nancy</td>\n",
              "      <td>Sales Manager</td>\n",
              "      <td>1.0</td>\n",
              "      <td>1958-12-08 00:00:00</td>\n",
              "      <td>2002-05-01 00:00:00</td>\n",
              "      <td>825 8 Ave SW</td>\n",
              "      <td>Calgary</td>\n",
              "      <td>AB</td>\n",
              "      <td>Canada</td>\n",
              "      <td>T2P 2T3</td>\n",
              "      <td>+1 (403) 262-3443</td>\n",
              "      <td>+1 (403) 262-3322</td>\n",
              "      <td>nancy@chinookcorp.com</td>\n",
              "    </tr>\n",
              "    <tr>\n",
              "      <th>2</th>\n",
              "      <td>3</td>\n",
              "      <td>Peacock</td>\n",
              "      <td>Jane</td>\n",
              "      <td>Sales Support Agent</td>\n",
              "      <td>2.0</td>\n",
              "      <td>1973-08-29 00:00:00</td>\n",
              "      <td>2002-04-01 00:00:00</td>\n",
              "      <td>1111 6 Ave SW</td>\n",
              "      <td>Calgary</td>\n",
              "      <td>AB</td>\n",
              "      <td>Canada</td>\n",
              "      <td>T2P 5M5</td>\n",
              "      <td>+1 (403) 262-3443</td>\n",
              "      <td>+1 (403) 262-6712</td>\n",
              "      <td>jane@chinookcorp.com</td>\n",
              "    </tr>\n",
              "    <tr>\n",
              "      <th>3</th>\n",
              "      <td>4</td>\n",
              "      <td>Park</td>\n",
              "      <td>Margaret</td>\n",
              "      <td>Sales Support Agent</td>\n",
              "      <td>2.0</td>\n",
              "      <td>1947-09-19 00:00:00</td>\n",
              "      <td>2003-05-03 00:00:00</td>\n",
              "      <td>683 10 Street SW</td>\n",
              "      <td>Calgary</td>\n",
              "      <td>AB</td>\n",
              "      <td>Canada</td>\n",
              "      <td>T2P 5G3</td>\n",
              "      <td>+1 (403) 263-4423</td>\n",
              "      <td>+1 (403) 263-4289</td>\n",
              "      <td>margaret@chinookcorp.com</td>\n",
              "    </tr>\n",
              "    <tr>\n",
              "      <th>4</th>\n",
              "      <td>5</td>\n",
              "      <td>Johnson</td>\n",
              "      <td>Steve</td>\n",
              "      <td>Sales Support Agent</td>\n",
              "      <td>2.0</td>\n",
              "      <td>1965-03-03 00:00:00</td>\n",
              "      <td>2003-10-17 00:00:00</td>\n",
              "      <td>7727B 41 Ave</td>\n",
              "      <td>Calgary</td>\n",
              "      <td>AB</td>\n",
              "      <td>Canada</td>\n",
              "      <td>T3B 1Y7</td>\n",
              "      <td>1 (780) 836-9987</td>\n",
              "      <td>1 (780) 836-9543</td>\n",
              "      <td>steve@chinookcorp.com</td>\n",
              "    </tr>\n",
              "    <tr>\n",
              "      <th>5</th>\n",
              "      <td>6</td>\n",
              "      <td>Mitchell</td>\n",
              "      <td>Michael</td>\n",
              "      <td>IT Manager</td>\n",
              "      <td>1.0</td>\n",
              "      <td>1973-07-01 00:00:00</td>\n",
              "      <td>2003-10-17 00:00:00</td>\n",
              "      <td>5827 Bowness Road NW</td>\n",
              "      <td>Calgary</td>\n",
              "      <td>AB</td>\n",
              "      <td>Canada</td>\n",
              "      <td>T3B 0C5</td>\n",
              "      <td>+1 (403) 246-9887</td>\n",
              "      <td>+1 (403) 246-9899</td>\n",
              "      <td>michael@chinookcorp.com</td>\n",
              "    </tr>\n",
              "    <tr>\n",
              "      <th>6</th>\n",
              "      <td>7</td>\n",
              "      <td>King</td>\n",
              "      <td>Robert</td>\n",
              "      <td>IT Staff</td>\n",
              "      <td>6.0</td>\n",
              "      <td>1970-05-29 00:00:00</td>\n",
              "      <td>2004-01-02 00:00:00</td>\n",
              "      <td>590 Columbia Boulevard West</td>\n",
              "      <td>Lethbridge</td>\n",
              "      <td>AB</td>\n",
              "      <td>Canada</td>\n",
              "      <td>T1K 5N8</td>\n",
              "      <td>+1 (403) 456-9986</td>\n",
              "      <td>+1 (403) 456-8485</td>\n",
              "      <td>robert@chinookcorp.com</td>\n",
              "    </tr>\n",
              "    <tr>\n",
              "      <th>7</th>\n",
              "      <td>8</td>\n",
              "      <td>Callahan</td>\n",
              "      <td>Laura</td>\n",
              "      <td>IT Staff</td>\n",
              "      <td>6.0</td>\n",
              "      <td>1968-01-09 00:00:00</td>\n",
              "      <td>2004-03-04 00:00:00</td>\n",
              "      <td>923 7 ST NW</td>\n",
              "      <td>Lethbridge</td>\n",
              "      <td>AB</td>\n",
              "      <td>Canada</td>\n",
              "      <td>T1H 1Y8</td>\n",
              "      <td>+1 (403) 467-3351</td>\n",
              "      <td>+1 (403) 467-8772</td>\n",
              "      <td>laura@chinookcorp.com</td>\n",
              "    </tr>\n",
              "  </tbody>\n",
              "</table>\n",
              "</div>\n",
              "    <div class=\"colab-df-buttons\">\n",
              "\n",
              "  <div class=\"colab-df-container\">\n",
              "    <button class=\"colab-df-convert\" onclick=\"convertToInteractive('df-984d61ef-2963-4fe6-a228-bff9c35044ee')\"\n",
              "            title=\"Convert this dataframe to an interactive table.\"\n",
              "            style=\"display:none;\">\n",
              "\n",
              "  <svg xmlns=\"http://www.w3.org/2000/svg\" height=\"24px\" viewBox=\"0 -960 960 960\">\n",
              "    <path d=\"M120-120v-720h720v720H120Zm60-500h600v-160H180v160Zm220 220h160v-160H400v160Zm0 220h160v-160H400v160ZM180-400h160v-160H180v160Zm440 0h160v-160H620v160ZM180-180h160v-160H180v160Zm440 0h160v-160H620v160Z\"/>\n",
              "  </svg>\n",
              "    </button>\n",
              "\n",
              "  <style>\n",
              "    .colab-df-container {\n",
              "      display:flex;\n",
              "      gap: 12px;\n",
              "    }\n",
              "\n",
              "    .colab-df-convert {\n",
              "      background-color: #E8F0FE;\n",
              "      border: none;\n",
              "      border-radius: 50%;\n",
              "      cursor: pointer;\n",
              "      display: none;\n",
              "      fill: #1967D2;\n",
              "      height: 32px;\n",
              "      padding: 0 0 0 0;\n",
              "      width: 32px;\n",
              "    }\n",
              "\n",
              "    .colab-df-convert:hover {\n",
              "      background-color: #E2EBFA;\n",
              "      box-shadow: 0px 1px 2px rgba(60, 64, 67, 0.3), 0px 1px 3px 1px rgba(60, 64, 67, 0.15);\n",
              "      fill: #174EA6;\n",
              "    }\n",
              "\n",
              "    .colab-df-buttons div {\n",
              "      margin-bottom: 4px;\n",
              "    }\n",
              "\n",
              "    [theme=dark] .colab-df-convert {\n",
              "      background-color: #3B4455;\n",
              "      fill: #D2E3FC;\n",
              "    }\n",
              "\n",
              "    [theme=dark] .colab-df-convert:hover {\n",
              "      background-color: #434B5C;\n",
              "      box-shadow: 0px 1px 3px 1px rgba(0, 0, 0, 0.15);\n",
              "      filter: drop-shadow(0px 1px 2px rgba(0, 0, 0, 0.3));\n",
              "      fill: #FFFFFF;\n",
              "    }\n",
              "  </style>\n",
              "\n",
              "    <script>\n",
              "      const buttonEl =\n",
              "        document.querySelector('#df-984d61ef-2963-4fe6-a228-bff9c35044ee button.colab-df-convert');\n",
              "      buttonEl.style.display =\n",
              "        google.colab.kernel.accessAllowed ? 'block' : 'none';\n",
              "\n",
              "      async function convertToInteractive(key) {\n",
              "        const element = document.querySelector('#df-984d61ef-2963-4fe6-a228-bff9c35044ee');\n",
              "        const dataTable =\n",
              "          await google.colab.kernel.invokeFunction('convertToInteractive',\n",
              "                                                    [key], {});\n",
              "        if (!dataTable) return;\n",
              "\n",
              "        const docLinkHtml = 'Like what you see? Visit the ' +\n",
              "          '<a target=\"_blank\" href=https://colab.research.google.com/notebooks/data_table.ipynb>data table notebook</a>'\n",
              "          + ' to learn more about interactive tables.';\n",
              "        element.innerHTML = '';\n",
              "        dataTable['output_type'] = 'display_data';\n",
              "        await google.colab.output.renderOutput(dataTable, element);\n",
              "        const docLink = document.createElement('div');\n",
              "        docLink.innerHTML = docLinkHtml;\n",
              "        element.appendChild(docLink);\n",
              "      }\n",
              "    </script>\n",
              "  </div>\n",
              "\n",
              "\n",
              "<div id=\"df-37b36193-22b7-4bcc-99bf-f9e4fd706e0d\">\n",
              "  <button class=\"colab-df-quickchart\" onclick=\"quickchart('df-37b36193-22b7-4bcc-99bf-f9e4fd706e0d')\"\n",
              "            title=\"Suggest charts\"\n",
              "            style=\"display:none;\">\n",
              "\n",
              "<svg xmlns=\"http://www.w3.org/2000/svg\" height=\"24px\"viewBox=\"0 0 24 24\"\n",
              "     width=\"24px\">\n",
              "    <g>\n",
              "        <path d=\"M19 3H5c-1.1 0-2 .9-2 2v14c0 1.1.9 2 2 2h14c1.1 0 2-.9 2-2V5c0-1.1-.9-2-2-2zM9 17H7v-7h2v7zm4 0h-2V7h2v10zm4 0h-2v-4h2v4z\"/>\n",
              "    </g>\n",
              "</svg>\n",
              "  </button>\n",
              "\n",
              "<style>\n",
              "  .colab-df-quickchart {\n",
              "      --bg-color: #E8F0FE;\n",
              "      --fill-color: #1967D2;\n",
              "      --hover-bg-color: #E2EBFA;\n",
              "      --hover-fill-color: #174EA6;\n",
              "      --disabled-fill-color: #AAA;\n",
              "      --disabled-bg-color: #DDD;\n",
              "  }\n",
              "\n",
              "  [theme=dark] .colab-df-quickchart {\n",
              "      --bg-color: #3B4455;\n",
              "      --fill-color: #D2E3FC;\n",
              "      --hover-bg-color: #434B5C;\n",
              "      --hover-fill-color: #FFFFFF;\n",
              "      --disabled-bg-color: #3B4455;\n",
              "      --disabled-fill-color: #666;\n",
              "  }\n",
              "\n",
              "  .colab-df-quickchart {\n",
              "    background-color: var(--bg-color);\n",
              "    border: none;\n",
              "    border-radius: 50%;\n",
              "    cursor: pointer;\n",
              "    display: none;\n",
              "    fill: var(--fill-color);\n",
              "    height: 32px;\n",
              "    padding: 0;\n",
              "    width: 32px;\n",
              "  }\n",
              "\n",
              "  .colab-df-quickchart:hover {\n",
              "    background-color: var(--hover-bg-color);\n",
              "    box-shadow: 0 1px 2px rgba(60, 64, 67, 0.3), 0 1px 3px 1px rgba(60, 64, 67, 0.15);\n",
              "    fill: var(--button-hover-fill-color);\n",
              "  }\n",
              "\n",
              "  .colab-df-quickchart-complete:disabled,\n",
              "  .colab-df-quickchart-complete:disabled:hover {\n",
              "    background-color: var(--disabled-bg-color);\n",
              "    fill: var(--disabled-fill-color);\n",
              "    box-shadow: none;\n",
              "  }\n",
              "\n",
              "  .colab-df-spinner {\n",
              "    border: 2px solid var(--fill-color);\n",
              "    border-color: transparent;\n",
              "    border-bottom-color: var(--fill-color);\n",
              "    animation:\n",
              "      spin 1s steps(1) infinite;\n",
              "  }\n",
              "\n",
              "  @keyframes spin {\n",
              "    0% {\n",
              "      border-color: transparent;\n",
              "      border-bottom-color: var(--fill-color);\n",
              "      border-left-color: var(--fill-color);\n",
              "    }\n",
              "    20% {\n",
              "      border-color: transparent;\n",
              "      border-left-color: var(--fill-color);\n",
              "      border-top-color: var(--fill-color);\n",
              "    }\n",
              "    30% {\n",
              "      border-color: transparent;\n",
              "      border-left-color: var(--fill-color);\n",
              "      border-top-color: var(--fill-color);\n",
              "      border-right-color: var(--fill-color);\n",
              "    }\n",
              "    40% {\n",
              "      border-color: transparent;\n",
              "      border-right-color: var(--fill-color);\n",
              "      border-top-color: var(--fill-color);\n",
              "    }\n",
              "    60% {\n",
              "      border-color: transparent;\n",
              "      border-right-color: var(--fill-color);\n",
              "    }\n",
              "    80% {\n",
              "      border-color: transparent;\n",
              "      border-right-color: var(--fill-color);\n",
              "      border-bottom-color: var(--fill-color);\n",
              "    }\n",
              "    90% {\n",
              "      border-color: transparent;\n",
              "      border-bottom-color: var(--fill-color);\n",
              "    }\n",
              "  }\n",
              "</style>\n",
              "\n",
              "  <script>\n",
              "    async function quickchart(key) {\n",
              "      const quickchartButtonEl =\n",
              "        document.querySelector('#' + key + ' button');\n",
              "      quickchartButtonEl.disabled = true;  // To prevent multiple clicks.\n",
              "      quickchartButtonEl.classList.add('colab-df-spinner');\n",
              "      try {\n",
              "        const charts = await google.colab.kernel.invokeFunction(\n",
              "            'suggestCharts', [key], {});\n",
              "      } catch (error) {\n",
              "        console.error('Error during call to suggestCharts:', error);\n",
              "      }\n",
              "      quickchartButtonEl.classList.remove('colab-df-spinner');\n",
              "      quickchartButtonEl.classList.add('colab-df-quickchart-complete');\n",
              "    }\n",
              "    (() => {\n",
              "      let quickchartButtonEl =\n",
              "        document.querySelector('#df-37b36193-22b7-4bcc-99bf-f9e4fd706e0d button');\n",
              "      quickchartButtonEl.style.display =\n",
              "        google.colab.kernel.accessAllowed ? 'block' : 'none';\n",
              "    })();\n",
              "  </script>\n",
              "</div>\n",
              "\n",
              "  <div id=\"id_fb19db85-83e6-4c60-a81c-b6566b446d2b\">\n",
              "    <style>\n",
              "      .colab-df-generate {\n",
              "        background-color: #E8F0FE;\n",
              "        border: none;\n",
              "        border-radius: 50%;\n",
              "        cursor: pointer;\n",
              "        display: none;\n",
              "        fill: #1967D2;\n",
              "        height: 32px;\n",
              "        padding: 0 0 0 0;\n",
              "        width: 32px;\n",
              "      }\n",
              "\n",
              "      .colab-df-generate:hover {\n",
              "        background-color: #E2EBFA;\n",
              "        box-shadow: 0px 1px 2px rgba(60, 64, 67, 0.3), 0px 1px 3px 1px rgba(60, 64, 67, 0.15);\n",
              "        fill: #174EA6;\n",
              "      }\n",
              "\n",
              "      [theme=dark] .colab-df-generate {\n",
              "        background-color: #3B4455;\n",
              "        fill: #D2E3FC;\n",
              "      }\n",
              "\n",
              "      [theme=dark] .colab-df-generate:hover {\n",
              "        background-color: #434B5C;\n",
              "        box-shadow: 0px 1px 3px 1px rgba(0, 0, 0, 0.15);\n",
              "        filter: drop-shadow(0px 1px 2px rgba(0, 0, 0, 0.3));\n",
              "        fill: #FFFFFF;\n",
              "      }\n",
              "    </style>\n",
              "    <button class=\"colab-df-generate\" onclick=\"generateWithVariable('employees')\"\n",
              "            title=\"Generate code using this dataframe.\"\n",
              "            style=\"display:none;\">\n",
              "\n",
              "  <svg xmlns=\"http://www.w3.org/2000/svg\" height=\"24px\"viewBox=\"0 0 24 24\"\n",
              "       width=\"24px\">\n",
              "    <path d=\"M7,19H8.4L18.45,9,17,7.55,7,17.6ZM5,21V16.75L18.45,3.32a2,2,0,0,1,2.83,0l1.4,1.43a1.91,1.91,0,0,1,.58,1.4,1.91,1.91,0,0,1-.58,1.4L9.25,21ZM18.45,9,17,7.55Zm-12,3A5.31,5.31,0,0,0,4.9,8.1,5.31,5.31,0,0,0,1,6.5,5.31,5.31,0,0,0,4.9,4.9,5.31,5.31,0,0,0,6.5,1,5.31,5.31,0,0,0,8.1,4.9,5.31,5.31,0,0,0,12,6.5,5.46,5.46,0,0,0,6.5,12Z\"/>\n",
              "  </svg>\n",
              "    </button>\n",
              "    <script>\n",
              "      (() => {\n",
              "      const buttonEl =\n",
              "        document.querySelector('#id_fb19db85-83e6-4c60-a81c-b6566b446d2b button.colab-df-generate');\n",
              "      buttonEl.style.display =\n",
              "        google.colab.kernel.accessAllowed ? 'block' : 'none';\n",
              "\n",
              "      buttonEl.onclick = () => {\n",
              "        google.colab.notebook.generateWithVariable('employees');\n",
              "      }\n",
              "      })();\n",
              "    </script>\n",
              "  </div>\n",
              "\n",
              "    </div>\n",
              "  </div>\n"
            ],
            "application/vnd.google.colaboratory.intrinsic+json": {
              "type": "dataframe",
              "variable_name": "employees",
              "summary": "{\n  \"name\": \"employees\",\n  \"rows\": 8,\n  \"fields\": [\n    {\n      \"column\": \"EmployeeId\",\n      \"properties\": {\n        \"dtype\": \"number\",\n        \"std\": 2,\n        \"min\": 1,\n        \"max\": 8,\n        \"num_unique_values\": 8,\n        \"samples\": [\n          2,\n          6,\n          1\n        ],\n        \"semantic_type\": \"\",\n        \"description\": \"\"\n      }\n    },\n    {\n      \"column\": \"LastName\",\n      \"properties\": {\n        \"dtype\": \"string\",\n        \"num_unique_values\": 8,\n        \"samples\": [\n          \"Edwards\",\n          \"Mitchell\",\n          \"Adams\"\n        ],\n        \"semantic_type\": \"\",\n        \"description\": \"\"\n      }\n    },\n    {\n      \"column\": \"FirstName\",\n      \"properties\": {\n        \"dtype\": \"string\",\n        \"num_unique_values\": 8,\n        \"samples\": [\n          \"Nancy\",\n          \"Michael\",\n          \"Andrew\"\n        ],\n        \"semantic_type\": \"\",\n        \"description\": \"\"\n      }\n    },\n    {\n      \"column\": \"Title\",\n      \"properties\": {\n        \"dtype\": \"string\",\n        \"num_unique_values\": 5,\n        \"samples\": [\n          \"Sales Manager\",\n          \"IT Staff\",\n          \"Sales Support Agent\"\n        ],\n        \"semantic_type\": \"\",\n        \"description\": \"\"\n      }\n    },\n    {\n      \"column\": \"ReportsTo\",\n      \"properties\": {\n        \"dtype\": \"number\",\n        \"std\": 2.193062655175134,\n        \"min\": 1.0,\n        \"max\": 6.0,\n        \"num_unique_values\": 3,\n        \"samples\": [\n          1.0,\n          2.0,\n          6.0\n        ],\n        \"semantic_type\": \"\",\n        \"description\": \"\"\n      }\n    },\n    {\n      \"column\": \"BirthDate\",\n      \"properties\": {\n        \"dtype\": \"object\",\n        \"num_unique_values\": 8,\n        \"samples\": [\n          \"1958-12-08 00:00:00\",\n          \"1973-07-01 00:00:00\",\n          \"1962-02-18 00:00:00\"\n        ],\n        \"semantic_type\": \"\",\n        \"description\": \"\"\n      }\n    },\n    {\n      \"column\": \"HireDate\",\n      \"properties\": {\n        \"dtype\": \"object\",\n        \"num_unique_values\": 7,\n        \"samples\": [\n          \"2002-08-14 00:00:00\",\n          \"2002-05-01 00:00:00\",\n          \"2004-01-02 00:00:00\"\n        ],\n        \"semantic_type\": \"\",\n        \"description\": \"\"\n      }\n    },\n    {\n      \"column\": \"Address\",\n      \"properties\": {\n        \"dtype\": \"string\",\n        \"num_unique_values\": 8,\n        \"samples\": [\n          \"825 8 Ave SW\",\n          \"5827 Bowness Road NW\",\n          \"11120 Jasper Ave NW\"\n        ],\n        \"semantic_type\": \"\",\n        \"description\": \"\"\n      }\n    },\n    {\n      \"column\": \"City\",\n      \"properties\": {\n        \"dtype\": \"category\",\n        \"num_unique_values\": 3,\n        \"samples\": [\n          \"Edmonton\",\n          \"Calgary\",\n          \"Lethbridge\"\n        ],\n        \"semantic_type\": \"\",\n        \"description\": \"\"\n      }\n    },\n    {\n      \"column\": \"State\",\n      \"properties\": {\n        \"dtype\": \"category\",\n        \"num_unique_values\": 1,\n        \"samples\": [\n          \"AB\"\n        ],\n        \"semantic_type\": \"\",\n        \"description\": \"\"\n      }\n    },\n    {\n      \"column\": \"Country\",\n      \"properties\": {\n        \"dtype\": \"category\",\n        \"num_unique_values\": 1,\n        \"samples\": [\n          \"Canada\"\n        ],\n        \"semantic_type\": \"\",\n        \"description\": \"\"\n      }\n    },\n    {\n      \"column\": \"PostalCode\",\n      \"properties\": {\n        \"dtype\": \"string\",\n        \"num_unique_values\": 8,\n        \"samples\": [\n          \"T2P 2T3\"\n        ],\n        \"semantic_type\": \"\",\n        \"description\": \"\"\n      }\n    },\n    {\n      \"column\": \"Phone\",\n      \"properties\": {\n        \"dtype\": \"string\",\n        \"num_unique_values\": 7,\n        \"samples\": [\n          \"+1 (780) 428-9482\"\n        ],\n        \"semantic_type\": \"\",\n        \"description\": \"\"\n      }\n    },\n    {\n      \"column\": \"Fax\",\n      \"properties\": {\n        \"dtype\": \"string\",\n        \"num_unique_values\": 8,\n        \"samples\": [\n          \"+1 (403) 262-3322\"\n        ],\n        \"semantic_type\": \"\",\n        \"description\": \"\"\n      }\n    },\n    {\n      \"column\": \"Email\",\n      \"properties\": {\n        \"dtype\": \"string\",\n        \"num_unique_values\": 8,\n        \"samples\": [\n          \"nancy@chinookcorp.com\"\n        ],\n        \"semantic_type\": \"\",\n        \"description\": \"\"\n      }\n    }\n  ]\n}"
            }
          },
          "metadata": {},
          "execution_count": 8
        }
      ]
    },
    {
      "cell_type": "code",
      "source": [
        " employees.info()"
      ],
      "metadata": {
        "colab": {
          "base_uri": "https://localhost:8080/"
        },
        "id": "YQX0Ad81WuZi",
        "outputId": "25eb8c4d-52c5-4c3b-90fc-2a108c02c595"
      },
      "execution_count": null,
      "outputs": [
        {
          "output_type": "stream",
          "name": "stdout",
          "text": [
            "<class 'pandas.core.frame.DataFrame'>\n",
            "RangeIndex: 8 entries, 0 to 7\n",
            "Data columns (total 15 columns):\n",
            " #   Column      Non-Null Count  Dtype  \n",
            "---  ------      --------------  -----  \n",
            " 0   EmployeeId  8 non-null      int64  \n",
            " 1   LastName    8 non-null      object \n",
            " 2   FirstName   8 non-null      object \n",
            " 3   Title       8 non-null      object \n",
            " 4   ReportsTo   7 non-null      float64\n",
            " 5   BirthDate   8 non-null      object \n",
            " 6   HireDate    8 non-null      object \n",
            " 7   Address     8 non-null      object \n",
            " 8   City        8 non-null      object \n",
            " 9   State       8 non-null      object \n",
            " 10  Country     8 non-null      object \n",
            " 11  PostalCode  8 non-null      object \n",
            " 12  Phone       8 non-null      object \n",
            " 13  Fax         8 non-null      object \n",
            " 14  Email       8 non-null      object \n",
            "dtypes: float64(1), int64(1), object(13)\n",
            "memory usage: 1.1+ KB\n"
          ]
        }
      ]
    },
    {
      "cell_type": "code",
      "source": [
        "employees.shape"
      ],
      "metadata": {
        "colab": {
          "base_uri": "https://localhost:8080/"
        },
        "id": "KPRRO66HW_NY",
        "outputId": "ada7e607-3f49-428a-d37d-dd11bd84ebe0"
      },
      "execution_count": null,
      "outputs": [
        {
          "output_type": "execute_result",
          "data": {
            "text/plain": [
              "(8, 15)"
            ]
          },
          "metadata": {},
          "execution_count": 10
        }
      ]
    },
    {
      "cell_type": "code",
      "source": [
        "employees.describe()"
      ],
      "metadata": {
        "colab": {
          "base_uri": "https://localhost:8080/"
        },
        "id": "U2XsiwROXFL9",
        "outputId": "45f5ff06-3bcd-4db2-ce11-cab0145d0df6"
      },
      "execution_count": null,
      "outputs": [
        {
          "output_type": "execute_result",
          "data": {
            "text/plain": [
              "       EmployeeId  ReportsTo\n",
              "count     8.00000   7.000000\n",
              "mean      4.50000   2.857143\n",
              "std       2.44949   2.193063\n",
              "min       1.00000   1.000000\n",
              "25%       2.75000   1.500000\n",
              "50%       4.50000   2.000000\n",
              "75%       6.25000   4.000000\n",
              "max       8.00000   6.000000"
            ],
            "text/html": [
              "\n",
              "  <div id=\"df-2b731935-018e-46df-8118-68a541288912\" class=\"colab-df-container\">\n",
              "    <div>\n",
              "<style scoped>\n",
              "    .dataframe tbody tr th:only-of-type {\n",
              "        vertical-align: middle;\n",
              "    }\n",
              "\n",
              "    .dataframe tbody tr th {\n",
              "        vertical-align: top;\n",
              "    }\n",
              "\n",
              "    .dataframe thead th {\n",
              "        text-align: right;\n",
              "    }\n",
              "</style>\n",
              "<table border=\"1\" class=\"dataframe\">\n",
              "  <thead>\n",
              "    <tr style=\"text-align: right;\">\n",
              "      <th></th>\n",
              "      <th>EmployeeId</th>\n",
              "      <th>ReportsTo</th>\n",
              "    </tr>\n",
              "  </thead>\n",
              "  <tbody>\n",
              "    <tr>\n",
              "      <th>count</th>\n",
              "      <td>8.00000</td>\n",
              "      <td>7.000000</td>\n",
              "    </tr>\n",
              "    <tr>\n",
              "      <th>mean</th>\n",
              "      <td>4.50000</td>\n",
              "      <td>2.857143</td>\n",
              "    </tr>\n",
              "    <tr>\n",
              "      <th>std</th>\n",
              "      <td>2.44949</td>\n",
              "      <td>2.193063</td>\n",
              "    </tr>\n",
              "    <tr>\n",
              "      <th>min</th>\n",
              "      <td>1.00000</td>\n",
              "      <td>1.000000</td>\n",
              "    </tr>\n",
              "    <tr>\n",
              "      <th>25%</th>\n",
              "      <td>2.75000</td>\n",
              "      <td>1.500000</td>\n",
              "    </tr>\n",
              "    <tr>\n",
              "      <th>50%</th>\n",
              "      <td>4.50000</td>\n",
              "      <td>2.000000</td>\n",
              "    </tr>\n",
              "    <tr>\n",
              "      <th>75%</th>\n",
              "      <td>6.25000</td>\n",
              "      <td>4.000000</td>\n",
              "    </tr>\n",
              "    <tr>\n",
              "      <th>max</th>\n",
              "      <td>8.00000</td>\n",
              "      <td>6.000000</td>\n",
              "    </tr>\n",
              "  </tbody>\n",
              "</table>\n",
              "</div>\n",
              "    <div class=\"colab-df-buttons\">\n",
              "\n",
              "  <div class=\"colab-df-container\">\n",
              "    <button class=\"colab-df-convert\" onclick=\"convertToInteractive('df-2b731935-018e-46df-8118-68a541288912')\"\n",
              "            title=\"Convert this dataframe to an interactive table.\"\n",
              "            style=\"display:none;\">\n",
              "\n",
              "  <svg xmlns=\"http://www.w3.org/2000/svg\" height=\"24px\" viewBox=\"0 -960 960 960\">\n",
              "    <path d=\"M120-120v-720h720v720H120Zm60-500h600v-160H180v160Zm220 220h160v-160H400v160Zm0 220h160v-160H400v160ZM180-400h160v-160H180v160Zm440 0h160v-160H620v160ZM180-180h160v-160H180v160Zm440 0h160v-160H620v160Z\"/>\n",
              "  </svg>\n",
              "    </button>\n",
              "\n",
              "  <style>\n",
              "    .colab-df-container {\n",
              "      display:flex;\n",
              "      gap: 12px;\n",
              "    }\n",
              "\n",
              "    .colab-df-convert {\n",
              "      background-color: #E8F0FE;\n",
              "      border: none;\n",
              "      border-radius: 50%;\n",
              "      cursor: pointer;\n",
              "      display: none;\n",
              "      fill: #1967D2;\n",
              "      height: 32px;\n",
              "      padding: 0 0 0 0;\n",
              "      width: 32px;\n",
              "    }\n",
              "\n",
              "    .colab-df-convert:hover {\n",
              "      background-color: #E2EBFA;\n",
              "      box-shadow: 0px 1px 2px rgba(60, 64, 67, 0.3), 0px 1px 3px 1px rgba(60, 64, 67, 0.15);\n",
              "      fill: #174EA6;\n",
              "    }\n",
              "\n",
              "    .colab-df-buttons div {\n",
              "      margin-bottom: 4px;\n",
              "    }\n",
              "\n",
              "    [theme=dark] .colab-df-convert {\n",
              "      background-color: #3B4455;\n",
              "      fill: #D2E3FC;\n",
              "    }\n",
              "\n",
              "    [theme=dark] .colab-df-convert:hover {\n",
              "      background-color: #434B5C;\n",
              "      box-shadow: 0px 1px 3px 1px rgba(0, 0, 0, 0.15);\n",
              "      filter: drop-shadow(0px 1px 2px rgba(0, 0, 0, 0.3));\n",
              "      fill: #FFFFFF;\n",
              "    }\n",
              "  </style>\n",
              "\n",
              "    <script>\n",
              "      const buttonEl =\n",
              "        document.querySelector('#df-2b731935-018e-46df-8118-68a541288912 button.colab-df-convert');\n",
              "      buttonEl.style.display =\n",
              "        google.colab.kernel.accessAllowed ? 'block' : 'none';\n",
              "\n",
              "      async function convertToInteractive(key) {\n",
              "        const element = document.querySelector('#df-2b731935-018e-46df-8118-68a541288912');\n",
              "        const dataTable =\n",
              "          await google.colab.kernel.invokeFunction('convertToInteractive',\n",
              "                                                    [key], {});\n",
              "        if (!dataTable) return;\n",
              "\n",
              "        const docLinkHtml = 'Like what you see? Visit the ' +\n",
              "          '<a target=\"_blank\" href=https://colab.research.google.com/notebooks/data_table.ipynb>data table notebook</a>'\n",
              "          + ' to learn more about interactive tables.';\n",
              "        element.innerHTML = '';\n",
              "        dataTable['output_type'] = 'display_data';\n",
              "        await google.colab.output.renderOutput(dataTable, element);\n",
              "        const docLink = document.createElement('div');\n",
              "        docLink.innerHTML = docLinkHtml;\n",
              "        element.appendChild(docLink);\n",
              "      }\n",
              "    </script>\n",
              "  </div>\n",
              "\n",
              "\n",
              "<div id=\"df-2822c9e6-2435-4835-97e0-4186e75a3ddc\">\n",
              "  <button class=\"colab-df-quickchart\" onclick=\"quickchart('df-2822c9e6-2435-4835-97e0-4186e75a3ddc')\"\n",
              "            title=\"Suggest charts\"\n",
              "            style=\"display:none;\">\n",
              "\n",
              "<svg xmlns=\"http://www.w3.org/2000/svg\" height=\"24px\"viewBox=\"0 0 24 24\"\n",
              "     width=\"24px\">\n",
              "    <g>\n",
              "        <path d=\"M19 3H5c-1.1 0-2 .9-2 2v14c0 1.1.9 2 2 2h14c1.1 0 2-.9 2-2V5c0-1.1-.9-2-2-2zM9 17H7v-7h2v7zm4 0h-2V7h2v10zm4 0h-2v-4h2v4z\"/>\n",
              "    </g>\n",
              "</svg>\n",
              "  </button>\n",
              "\n",
              "<style>\n",
              "  .colab-df-quickchart {\n",
              "      --bg-color: #E8F0FE;\n",
              "      --fill-color: #1967D2;\n",
              "      --hover-bg-color: #E2EBFA;\n",
              "      --hover-fill-color: #174EA6;\n",
              "      --disabled-fill-color: #AAA;\n",
              "      --disabled-bg-color: #DDD;\n",
              "  }\n",
              "\n",
              "  [theme=dark] .colab-df-quickchart {\n",
              "      --bg-color: #3B4455;\n",
              "      --fill-color: #D2E3FC;\n",
              "      --hover-bg-color: #434B5C;\n",
              "      --hover-fill-color: #FFFFFF;\n",
              "      --disabled-bg-color: #3B4455;\n",
              "      --disabled-fill-color: #666;\n",
              "  }\n",
              "\n",
              "  .colab-df-quickchart {\n",
              "    background-color: var(--bg-color);\n",
              "    border: none;\n",
              "    border-radius: 50%;\n",
              "    cursor: pointer;\n",
              "    display: none;\n",
              "    fill: var(--fill-color);\n",
              "    height: 32px;\n",
              "    padding: 0;\n",
              "    width: 32px;\n",
              "  }\n",
              "\n",
              "  .colab-df-quickchart:hover {\n",
              "    background-color: var(--hover-bg-color);\n",
              "    box-shadow: 0 1px 2px rgba(60, 64, 67, 0.3), 0 1px 3px 1px rgba(60, 64, 67, 0.15);\n",
              "    fill: var(--button-hover-fill-color);\n",
              "  }\n",
              "\n",
              "  .colab-df-quickchart-complete:disabled,\n",
              "  .colab-df-quickchart-complete:disabled:hover {\n",
              "    background-color: var(--disabled-bg-color);\n",
              "    fill: var(--disabled-fill-color);\n",
              "    box-shadow: none;\n",
              "  }\n",
              "\n",
              "  .colab-df-spinner {\n",
              "    border: 2px solid var(--fill-color);\n",
              "    border-color: transparent;\n",
              "    border-bottom-color: var(--fill-color);\n",
              "    animation:\n",
              "      spin 1s steps(1) infinite;\n",
              "  }\n",
              "\n",
              "  @keyframes spin {\n",
              "    0% {\n",
              "      border-color: transparent;\n",
              "      border-bottom-color: var(--fill-color);\n",
              "      border-left-color: var(--fill-color);\n",
              "    }\n",
              "    20% {\n",
              "      border-color: transparent;\n",
              "      border-left-color: var(--fill-color);\n",
              "      border-top-color: var(--fill-color);\n",
              "    }\n",
              "    30% {\n",
              "      border-color: transparent;\n",
              "      border-left-color: var(--fill-color);\n",
              "      border-top-color: var(--fill-color);\n",
              "      border-right-color: var(--fill-color);\n",
              "    }\n",
              "    40% {\n",
              "      border-color: transparent;\n",
              "      border-right-color: var(--fill-color);\n",
              "      border-top-color: var(--fill-color);\n",
              "    }\n",
              "    60% {\n",
              "      border-color: transparent;\n",
              "      border-right-color: var(--fill-color);\n",
              "    }\n",
              "    80% {\n",
              "      border-color: transparent;\n",
              "      border-right-color: var(--fill-color);\n",
              "      border-bottom-color: var(--fill-color);\n",
              "    }\n",
              "    90% {\n",
              "      border-color: transparent;\n",
              "      border-bottom-color: var(--fill-color);\n",
              "    }\n",
              "  }\n",
              "</style>\n",
              "\n",
              "  <script>\n",
              "    async function quickchart(key) {\n",
              "      const quickchartButtonEl =\n",
              "        document.querySelector('#' + key + ' button');\n",
              "      quickchartButtonEl.disabled = true;  // To prevent multiple clicks.\n",
              "      quickchartButtonEl.classList.add('colab-df-spinner');\n",
              "      try {\n",
              "        const charts = await google.colab.kernel.invokeFunction(\n",
              "            'suggestCharts', [key], {});\n",
              "      } catch (error) {\n",
              "        console.error('Error during call to suggestCharts:', error);\n",
              "      }\n",
              "      quickchartButtonEl.classList.remove('colab-df-spinner');\n",
              "      quickchartButtonEl.classList.add('colab-df-quickchart-complete');\n",
              "    }\n",
              "    (() => {\n",
              "      let quickchartButtonEl =\n",
              "        document.querySelector('#df-2822c9e6-2435-4835-97e0-4186e75a3ddc button');\n",
              "      quickchartButtonEl.style.display =\n",
              "        google.colab.kernel.accessAllowed ? 'block' : 'none';\n",
              "    })();\n",
              "  </script>\n",
              "</div>\n",
              "\n",
              "    </div>\n",
              "  </div>\n"
            ],
            "application/vnd.google.colaboratory.intrinsic+json": {
              "type": "dataframe",
              "summary": "{\n  \"name\": \"employees\",\n  \"rows\": 8,\n  \"fields\": [\n    {\n      \"column\": \"EmployeeId\",\n      \"properties\": {\n        \"dtype\": \"number\",\n        \"std\": 2.586143426324423,\n        \"min\": 1.0,\n        \"max\": 8.0,\n        \"num_unique_values\": 6,\n        \"samples\": [\n          8.0,\n          4.5,\n          6.25\n        ],\n        \"semantic_type\": \"\",\n        \"description\": \"\"\n      }\n    },\n    {\n      \"column\": \"ReportsTo\",\n      \"properties\": {\n        \"dtype\": \"number\",\n        \"std\": 2.1748107478371597,\n        \"min\": 1.0,\n        \"max\": 7.0,\n        \"num_unique_values\": 8,\n        \"samples\": [\n          2.857142857142857,\n          2.0,\n          7.0\n        ],\n        \"semantic_type\": \"\",\n        \"description\": \"\"\n      }\n    }\n  ]\n}"
            }
          },
          "metadata": {},
          "execution_count": 11
        }
      ]
    },
    {
      "cell_type": "markdown",
      "source": [
        "- What sort of information is in this dataset?\n",
        "- How many records are there?\n",
        "- How many different countries (states, counties, cities, etc) have records in this data set?"
      ],
      "metadata": {
        "id": "u_O4AiG_bC_S"
      }
    },
    {
      "cell_type": "code",
      "source": [
        "%%script sqlite3 --column --header chinook.db\n",
        "SELECT COUNT(*) as TotalEmployees\n",
        "FROM Employees;"
      ],
      "metadata": {
        "colab": {
          "base_uri": "https://localhost:8080/"
        },
        "id": "j-ERcrW0bBrc",
        "outputId": "5881844e-9efa-443e-f162-f4766588a3a4"
      },
      "execution_count": null,
      "outputs": [
        {
          "output_type": "stream",
          "name": "stdout",
          "text": [
            "TotalEmployees\n",
            "--------------\n",
            "8             \n"
          ]
        }
      ]
    },
    {
      "cell_type": "code",
      "source": [
        "%%script sqlite3 --column --header chinook.db\n",
        "SELECT DISTINCT FirstName\n",
        "FROM Employees;"
      ],
      "metadata": {
        "colab": {
          "base_uri": "https://localhost:8080/"
        },
        "id": "Rx1IYl0Az8eT",
        "outputId": "66a700b0-b1d8-4fa5-ae56-e435a1118d70"
      },
      "execution_count": null,
      "outputs": [
        {
          "output_type": "stream",
          "name": "stdout",
          "text": [
            "FirstName\n",
            "---------\n",
            "Andrew   \n",
            "Nancy    \n",
            "Jane     \n",
            "Margaret \n",
            "Steve    \n",
            "Michael  \n",
            "Robert   \n",
            "Laura    \n"
          ]
        }
      ]
    },
    {
      "cell_type": "code",
      "source": [
        "%%script sqlite3 --column --header chinook.db\n",
        "SELECT DISTINCT LastName\n",
        "FROM Employees;"
      ],
      "metadata": {
        "colab": {
          "base_uri": "https://localhost:8080/"
        },
        "id": "JK3g_1DG0pRU",
        "outputId": "0e118785-2d48-469d-9167-c03c83c6a8af"
      },
      "execution_count": null,
      "outputs": [
        {
          "output_type": "stream",
          "name": "stdout",
          "text": [
            "LastName\n",
            "--------\n",
            "Adams   \n",
            "Edwards \n",
            "Peacock \n",
            "Park    \n",
            "Johnson \n",
            "Mitchell\n",
            "King    \n",
            "Callahan\n"
          ]
        }
      ]
    },
    {
      "cell_type": "code",
      "source": [
        "%%script sqlite3 --column --header chinook.db\n",
        "SELECT COUNT(DISTINCT Country) as TotalCountries\n",
        "FROM employees;"
      ],
      "metadata": {
        "colab": {
          "base_uri": "https://localhost:8080/"
        },
        "id": "BpRtTdvMythf",
        "outputId": "e5612cd7-d431-4f15-8c03-09986403ceb0"
      },
      "execution_count": null,
      "outputs": [
        {
          "output_type": "stream",
          "name": "stdout",
          "text": [
            "TotalCountries\n",
            "--------------\n",
            "1             \n"
          ]
        }
      ]
    },
    {
      "cell_type": "code",
      "source": [
        "%%script sqlite3 --column --header chinook.db\n",
        "SELECT DISTINCT Country\n",
        "FROM employees;"
      ],
      "metadata": {
        "colab": {
          "base_uri": "https://localhost:8080/"
        },
        "id": "SPFbKjB8zJpw",
        "outputId": "048e6e0a-e5ef-4204-d16c-557328c279cd"
      },
      "execution_count": null,
      "outputs": [
        {
          "output_type": "stream",
          "name": "stdout",
          "text": [
            "Country\n",
            "-------\n",
            "Canada \n"
          ]
        }
      ]
    },
    {
      "cell_type": "code",
      "source": [
        "%%script sqlite3 --column --header chinook.db\n",
        "SELECT COUNT(DISTINCT City) as TotalCities\n",
        "FROM employees;"
      ],
      "metadata": {
        "colab": {
          "base_uri": "https://localhost:8080/"
        },
        "id": "qZBW0r-rzcsB",
        "outputId": "068cfced-60aa-435b-e3ff-62dd63024bb7"
      },
      "execution_count": null,
      "outputs": [
        {
          "output_type": "stream",
          "name": "stdout",
          "text": [
            "TotalCities\n",
            "-----------\n",
            "3          \n"
          ]
        }
      ]
    },
    {
      "cell_type": "code",
      "source": [
        "%%script sqlite3 --column --header chinook.db\n",
        "SELECT DISTINCT City\n",
        "FROM employees;"
      ],
      "metadata": {
        "colab": {
          "base_uri": "https://localhost:8080/"
        },
        "id": "Ybh1QexMzmek",
        "outputId": "b53779e8-28b7-4813-c161-258c9c32ebd5"
      },
      "execution_count": null,
      "outputs": [
        {
          "output_type": "stream",
          "name": "stdout",
          "text": [
            "City      \n",
            "----------\n",
            "Edmonton  \n",
            "Calgary   \n",
            "Lethbridge\n"
          ]
        }
      ]
    },
    {
      "cell_type": "code",
      "source": [
        "%%script sqlite3 --column --header chinook.db\n",
        "SELECT COUNT(DISTINCT State) as TotalStates\n",
        "FROM employees;"
      ],
      "metadata": {
        "colab": {
          "base_uri": "https://localhost:8080/"
        },
        "id": "7sHZvTIE1Dbh",
        "outputId": "7fa429ef-e620-4f4a-910b-ac3a34ebbf66"
      },
      "execution_count": null,
      "outputs": [
        {
          "output_type": "stream",
          "name": "stdout",
          "text": [
            "TotalStates\n",
            "-----------\n",
            "1          \n"
          ]
        }
      ]
    },
    {
      "cell_type": "code",
      "source": [
        "%%script sqlite3 --column --header chinook.db\n",
        "SELECT DISTINCT State\n",
        "FROM employees;"
      ],
      "metadata": {
        "colab": {
          "base_uri": "https://localhost:8080/"
        },
        "id": "MRJ6Em8x1YJv",
        "outputId": "4ed6d1ad-e8e6-4c61-a925-c5581f1f8627"
      },
      "execution_count": null,
      "outputs": [
        {
          "output_type": "stream",
          "name": "stdout",
          "text": [
            "State\n",
            "-----\n",
            "AB   \n"
          ]
        }
      ]
    },
    {
      "cell_type": "markdown",
      "source": [
        "## Use SQL queries to pull specific information\n",
        "\n",
        "Do NOT pull all the data and then filter using DataFrame methods etc. Make sure and use AT LEAST 13 of the 15 SQL options listed below. (You may have to get creative and come up with more questions to ask/answer.)\n"
      ],
      "metadata": {
        "id": "TqvaIfog546s"
      }
    },
    {
      "cell_type": "markdown",
      "source": [
        "### Basic Queries\n"
      ],
      "metadata": {
        "id": "borajWvCtRtl"
      }
    },
    {
      "cell_type": "markdown",
      "source": [
        "#### SELECT (with * and with column names)\n"
      ],
      "metadata": {
        "id": "gIEIK51EthwM"
      }
    },
    {
      "cell_type": "code",
      "source": [
        "# Select the first 10 entries from the employees table\n",
        "%%script sqlite3 --column --header chinook.db\n",
        "select *\n",
        "from employees\n",
        "limit 10"
      ],
      "metadata": {
        "id": "YmICVUnVuBSQ",
        "colab": {
          "base_uri": "https://localhost:8080/"
        },
        "outputId": "be41cc67-c265-4806-864f-0517c9ec7cf8"
      },
      "execution_count": null,
      "outputs": [
        {
          "output_type": "stream",
          "name": "stdout",
          "text": [
            "EmployeeId  LastName  FirstName  Title                ReportsTo  BirthDate            HireDate             Address                      City        State  Country  PostalCode  Phone              Fax                Email                   \n",
            "----------  --------  ---------  -------------------  ---------  -------------------  -------------------  ---------------------------  ----------  -----  -------  ----------  -----------------  -----------------  ------------------------\n",
            "1           Adams     Andrew     General Manager                 1962-02-18 00:00:00  2002-08-14 00:00:00  11120 Jasper Ave NW          Edmonton    AB     Canada   T5K 2N1     +1 (780) 428-9482  +1 (780) 428-3457  andrew@chinookcorp.com  \n",
            "2           Edwards   Nancy      Sales Manager        1          1958-12-08 00:00:00  2002-05-01 00:00:00  825 8 Ave SW                 Calgary     AB     Canada   T2P 2T3     +1 (403) 262-3443  +1 (403) 262-3322  nancy@chinookcorp.com   \n",
            "3           Peacock   Jane       Sales Support Agent  2          1973-08-29 00:00:00  2002-04-01 00:00:00  1111 6 Ave SW                Calgary     AB     Canada   T2P 5M5     +1 (403) 262-3443  +1 (403) 262-6712  jane@chinookcorp.com    \n",
            "4           Park      Margaret   Sales Support Agent  2          1947-09-19 00:00:00  2003-05-03 00:00:00  683 10 Street SW             Calgary     AB     Canada   T2P 5G3     +1 (403) 263-4423  +1 (403) 263-4289  margaret@chinookcorp.com\n",
            "5           Johnson   Steve      Sales Support Agent  2          1965-03-03 00:00:00  2003-10-17 00:00:00  7727B 41 Ave                 Calgary     AB     Canada   T3B 1Y7     1 (780) 836-9987   1 (780) 836-9543   steve@chinookcorp.com   \n",
            "6           Mitchell  Michael    IT Manager           1          1973-07-01 00:00:00  2003-10-17 00:00:00  5827 Bowness Road NW         Calgary     AB     Canada   T3B 0C5     +1 (403) 246-9887  +1 (403) 246-9899  michael@chinookcorp.com \n",
            "7           King      Robert     IT Staff             6          1970-05-29 00:00:00  2004-01-02 00:00:00  590 Columbia Boulevard West  Lethbridge  AB     Canada   T1K 5N8     +1 (403) 456-9986  +1 (403) 456-8485  robert@chinookcorp.com  \n",
            "8           Callahan  Laura      IT Staff             6          1968-01-09 00:00:00  2004-03-04 00:00:00  923 7 ST NW                  Lethbridge  AB     Canada   T1H 1Y8     +1 (403) 467-3351  +1 (403) 467-8772  laura@chinookcorp.com   \n"
          ]
        }
      ]
    },
    {
      "cell_type": "code",
      "source": [
        "%%script sqlite3 --column --header chinook.db\n",
        "select employeeid, lastname, firstname, title\n",
        "from employees\n",
        "limit 10"
      ],
      "metadata": {
        "id": "8slKgFpsuBCh",
        "colab": {
          "base_uri": "https://localhost:8080/"
        },
        "outputId": "6cc02f4c-4cd6-420c-ef57-78c92f84691a"
      },
      "execution_count": null,
      "outputs": [
        {
          "output_type": "stream",
          "name": "stdout",
          "text": [
            "EmployeeId  LastName  FirstName  Title              \n",
            "----------  --------  ---------  -------------------\n",
            "1           Adams     Andrew     General Manager    \n",
            "2           Edwards   Nancy      Sales Manager      \n",
            "3           Peacock   Jane       Sales Support Agent\n",
            "4           Park      Margaret   Sales Support Agent\n",
            "5           Johnson   Steve      Sales Support Agent\n",
            "6           Mitchell  Michael    IT Manager         \n",
            "7           King      Robert     IT Staff           \n",
            "8           Callahan  Laura      IT Staff           \n"
          ]
        }
      ]
    },
    {
      "cell_type": "markdown",
      "source": [
        "#### WHERE\n"
      ],
      "metadata": {
        "id": "dRvXfTGEtkdQ"
      }
    },
    {
      "cell_type": "code",
      "source": [
        "%%script sqlite3 --column --header chinook.db\n",
        "select employeeid, lastname, firstname, title\n",
        "from employees\n",
        "where title = 'Sales Support Agent'"
      ],
      "metadata": {
        "id": "0oNobfUnt_4Z",
        "colab": {
          "base_uri": "https://localhost:8080/"
        },
        "outputId": "4f003de1-1bef-4298-95c1-2d52d308c54d"
      },
      "execution_count": null,
      "outputs": [
        {
          "output_type": "stream",
          "name": "stdout",
          "text": [
            "EmployeeId  LastName  FirstName  Title              \n",
            "----------  --------  ---------  -------------------\n",
            "3           Peacock   Jane       Sales Support Agent\n",
            "4           Park      Margaret   Sales Support Agent\n",
            "5           Johnson   Steve      Sales Support Agent\n"
          ]
        }
      ]
    },
    {
      "cell_type": "markdown",
      "source": [
        "#### AND\n"
      ],
      "metadata": {
        "id": "u5y_3d4GtlqN"
      }
    },
    {
      "cell_type": "code",
      "source": [
        "%%script sqlite3 --column --header chinook.db\n",
        "SELECT employeeid, lastname, firstname, title\n",
        "FROM employees\n",
        "WHERE title = 'Sales Support Agent'\n",
        "AND city = 'Calgary'"
      ],
      "metadata": {
        "id": "H1tgAAFtt_Yy",
        "colab": {
          "base_uri": "https://localhost:8080/"
        },
        "outputId": "9552f9ea-e35b-4532-e2ce-3af1489295a1"
      },
      "execution_count": null,
      "outputs": [
        {
          "output_type": "stream",
          "name": "stdout",
          "text": [
            "EmployeeId  LastName  FirstName  Title              \n",
            "----------  --------  ---------  -------------------\n",
            "3           Peacock   Jane       Sales Support Agent\n",
            "4           Park      Margaret   Sales Support Agent\n",
            "5           Johnson   Steve      Sales Support Agent\n"
          ]
        }
      ]
    },
    {
      "cell_type": "markdown",
      "source": [
        "#### OR\n"
      ],
      "metadata": {
        "id": "fddyzEAetnzB"
      }
    },
    {
      "cell_type": "code",
      "source": [
        "%%script sqlite3 --column --header chinook.db\n",
        "SELECT employeeid, lastname, firstname, title\n",
        "FROM employees\n",
        "WHERE title = 'Sales Support Agent'\n",
        "OR city = 'Calgary'"
      ],
      "metadata": {
        "id": "HAg8LDQ3t-yr",
        "colab": {
          "base_uri": "https://localhost:8080/"
        },
        "outputId": "06c0b708-1145-482c-b761-26eb243026c6"
      },
      "execution_count": null,
      "outputs": [
        {
          "output_type": "stream",
          "name": "stdout",
          "text": [
            "EmployeeId  LastName  FirstName  Title              \n",
            "----------  --------  ---------  -------------------\n",
            "2           Edwards   Nancy      Sales Manager      \n",
            "3           Peacock   Jane       Sales Support Agent\n",
            "4           Park      Margaret   Sales Support Agent\n",
            "5           Johnson   Steve      Sales Support Agent\n",
            "6           Mitchell  Michael    IT Manager         \n"
          ]
        }
      ]
    },
    {
      "cell_type": "markdown",
      "source": [
        "#### LIKE (with % or _ wildcard)\n"
      ],
      "metadata": {
        "id": "-csoeatGtpRq"
      }
    },
    {
      "cell_type": "code",
      "source": [
        "%%script sqlite3 --column --header chinook.db\n",
        "SELECT employeeid, lastname, firstname, title\n",
        "FROM employees\n",
        "WHERE title LIKE 'Sales%'"
      ],
      "metadata": {
        "id": "UB3EyaRRt9ki",
        "colab": {
          "base_uri": "https://localhost:8080/"
        },
        "outputId": "d2170d3a-afa6-4246-bb93-dc5dde0f9a30"
      },
      "execution_count": null,
      "outputs": [
        {
          "output_type": "stream",
          "name": "stdout",
          "text": [
            "EmployeeId  LastName  FirstName  Title              \n",
            "----------  --------  ---------  -------------------\n",
            "2           Edwards   Nancy      Sales Manager      \n",
            "3           Peacock   Jane       Sales Support Agent\n",
            "4           Park      Margaret   Sales Support Agent\n",
            "5           Johnson   Steve      Sales Support Agent\n"
          ]
        }
      ]
    },
    {
      "cell_type": "markdown",
      "source": [
        "#### BETWEEN\n"
      ],
      "metadata": {
        "id": "BV8kQ-9FtqGY"
      }
    },
    {
      "cell_type": "code",
      "source": [
        "%%script sqlite3 --column --header chinook.db\n",
        "SELECT employeeid, lastname, firstname, title\n",
        "FROM employees\n",
        "WHERE employeeid BETWEEN 3 AND 5"
      ],
      "metadata": {
        "id": "AAMkUyW6t9IR",
        "colab": {
          "base_uri": "https://localhost:8080/"
        },
        "outputId": "6d4cc674-9017-40f6-9113-0d2c3a49a548"
      },
      "execution_count": null,
      "outputs": [
        {
          "output_type": "stream",
          "name": "stdout",
          "text": [
            "EmployeeId  LastName  FirstName  Title              \n",
            "----------  --------  ---------  -------------------\n",
            "3           Peacock   Jane       Sales Support Agent\n",
            "4           Park      Margaret   Sales Support Agent\n",
            "5           Johnson   Steve      Sales Support Agent\n"
          ]
        }
      ]
    },
    {
      "cell_type": "markdown",
      "source": [
        "#### LIMIT\n",
        "\n"
      ],
      "metadata": {
        "id": "3BqrCUPBtqpX"
      }
    },
    {
      "cell_type": "code",
      "source": [
        "%%script sqlite3 --column --header chinook.db\n",
        "SELECT employeeid, lastname, firstname, title\n",
        "FROM employees\n",
        "WHERE employeeid BETWEEN 3 AND 5\n",
        "LIMIT 2"
      ],
      "metadata": {
        "id": "CixJguOYuw49",
        "colab": {
          "base_uri": "https://localhost:8080/"
        },
        "outputId": "4d330eba-735f-4ac2-c0f8-93775ee71d2f"
      },
      "execution_count": null,
      "outputs": [
        {
          "output_type": "stream",
          "name": "stdout",
          "text": [
            "EmployeeId  LastName  FirstName  Title              \n",
            "----------  --------  ---------  -------------------\n",
            "3           Peacock   Jane       Sales Support Agent\n",
            "4           Park      Margaret   Sales Support Agent\n"
          ]
        }
      ]
    },
    {
      "cell_type": "markdown",
      "source": [
        "### Sorting and Grouping\n"
      ],
      "metadata": {
        "id": "a4DtPW7ytrU7"
      }
    },
    {
      "cell_type": "markdown",
      "source": [
        "#### ORDER BY\n"
      ],
      "metadata": {
        "id": "SneUyw4Xtr-U"
      }
    },
    {
      "cell_type": "code",
      "source": [
        "# ORDER BY employe id\n",
        "%%script sqlite3 --column --header chinook.db\n",
        "SELECT *\n",
        "FROM employees\n",
        "ORDER BY employeeid;\n"
      ],
      "metadata": {
        "id": "29jQ-pBFt7uf",
        "colab": {
          "base_uri": "https://localhost:8080/"
        },
        "outputId": "391555aa-ae59-41c2-fb76-c892d26478f6"
      },
      "execution_count": null,
      "outputs": [
        {
          "output_type": "stream",
          "name": "stdout",
          "text": [
            "EmployeeId  LastName  FirstName  Title                ReportsTo  BirthDate            HireDate             Address                      City        State  Country  PostalCode  Phone              Fax                Email                   \n",
            "----------  --------  ---------  -------------------  ---------  -------------------  -------------------  ---------------------------  ----------  -----  -------  ----------  -----------------  -----------------  ------------------------\n",
            "1           Adams     Andrew     General Manager                 1962-02-18 00:00:00  2002-08-14 00:00:00  11120 Jasper Ave NW          Edmonton    AB     Canada   T5K 2N1     +1 (780) 428-9482  +1 (780) 428-3457  andrew@chinookcorp.com  \n",
            "2           Edwards   Nancy      Sales Manager        1          1958-12-08 00:00:00  2002-05-01 00:00:00  825 8 Ave SW                 Calgary     AB     Canada   T2P 2T3     +1 (403) 262-3443  +1 (403) 262-3322  nancy@chinookcorp.com   \n",
            "3           Peacock   Jane       Sales Support Agent  2          1973-08-29 00:00:00  2002-04-01 00:00:00  1111 6 Ave SW                Calgary     AB     Canada   T2P 5M5     +1 (403) 262-3443  +1 (403) 262-6712  jane@chinookcorp.com    \n",
            "4           Park      Margaret   Sales Support Agent  2          1947-09-19 00:00:00  2003-05-03 00:00:00  683 10 Street SW             Calgary     AB     Canada   T2P 5G3     +1 (403) 263-4423  +1 (403) 263-4289  margaret@chinookcorp.com\n",
            "5           Johnson   Steve      Sales Support Agent  2          1965-03-03 00:00:00  2003-10-17 00:00:00  7727B 41 Ave                 Calgary     AB     Canada   T3B 1Y7     1 (780) 836-9987   1 (780) 836-9543   steve@chinookcorp.com   \n",
            "6           Mitchell  Michael    IT Manager           1          1973-07-01 00:00:00  2003-10-17 00:00:00  5827 Bowness Road NW         Calgary     AB     Canada   T3B 0C5     +1 (403) 246-9887  +1 (403) 246-9899  michael@chinookcorp.com \n",
            "7           King      Robert     IT Staff             6          1970-05-29 00:00:00  2004-01-02 00:00:00  590 Columbia Boulevard West  Lethbridge  AB     Canada   T1K 5N8     +1 (403) 456-9986  +1 (403) 456-8485  robert@chinookcorp.com  \n",
            "8           Callahan  Laura      IT Staff             6          1968-01-09 00:00:00  2004-03-04 00:00:00  923 7 ST NW                  Lethbridge  AB     Canada   T1H 1Y8     +1 (403) 467-3351  +1 (403) 467-8772  laura@chinookcorp.com   \n"
          ]
        }
      ]
    },
    {
      "cell_type": "markdown",
      "source": [
        "#### DISTINCT\n"
      ],
      "metadata": {
        "id": "Y22yRW5Wtsl1"
      }
    },
    {
      "cell_type": "code",
      "source": [
        "# DISTINCT on ReportssTo\n",
        "%%script sqlite3 --column --header chinook.db\n",
        "SELECT DISTINCT ReportsTo\n",
        "FROM employees;\n"
      ],
      "metadata": {
        "id": "RGkf7Qh1t7Cm",
        "colab": {
          "base_uri": "https://localhost:8080/"
        },
        "outputId": "fd7627d5-4374-4acd-ff03-01b4fc5510fb"
      },
      "execution_count": null,
      "outputs": [
        {
          "output_type": "stream",
          "name": "stdout",
          "text": [
            "ReportsTo\n",
            "---------\n",
            "         \n",
            "1        \n",
            "2        \n",
            "6        \n"
          ]
        }
      ]
    },
    {
      "cell_type": "markdown",
      "source": [
        "#### GROUP BY\n",
        "\n"
      ],
      "metadata": {
        "id": "Q0mwAOgettPz"
      }
    },
    {
      "cell_type": "code",
      "source": [
        "# GROUP BY ReportsTo\n",
        "\n",
        "%%script sqlite3 --column --header chinook.db\n",
        "SELECT ReportsTo, COUNT(*) AS EmployeeCount\n",
        "FROM employees\n",
        "GROUP BY ReportsTo;\n"
      ],
      "metadata": {
        "id": "8cv2_l-Lt6Wv",
        "colab": {
          "base_uri": "https://localhost:8080/"
        },
        "outputId": "79bacda1-a0e6-4bc7-f6fb-f3d66eca6a5a"
      },
      "execution_count": null,
      "outputs": [
        {
          "output_type": "stream",
          "name": "stdout",
          "text": [
            "ReportsTo  EmployeeCount\n",
            "---------  -------------\n",
            "           1            \n",
            "1          2            \n",
            "2          3            \n",
            "6          2            \n"
          ]
        }
      ]
    },
    {
      "cell_type": "markdown",
      "source": [
        "### Aggregates\n"
      ],
      "metadata": {
        "id": "dJUO6Dh3tt5c"
      }
    },
    {
      "cell_type": "markdown",
      "source": [
        "#### MAX\n"
      ],
      "metadata": {
        "id": "spacz18MtvBo"
      }
    },
    {
      "cell_type": "code",
      "source": [
        "# MAX on HireDate\n",
        "%%script sqlite3 --column --header chinook.db\n",
        "SELECT MAX(HireDate) FROM employees;\n"
      ],
      "metadata": {
        "id": "e8Ke_lJKt2VQ",
        "colab": {
          "base_uri": "https://localhost:8080/"
        },
        "outputId": "b6b5dbad-e58c-4d3d-8c60-4719e5a68f1f"
      },
      "execution_count": null,
      "outputs": [
        {
          "output_type": "stream",
          "name": "stdout",
          "text": [
            "MAX(HireDate)      \n",
            "-------------------\n",
            "2004-03-04 00:00:00\n"
          ]
        }
      ]
    },
    {
      "cell_type": "markdown",
      "source": [
        "#### MIN\n"
      ],
      "metadata": {
        "id": "V0z33BTztvoP"
      }
    },
    {
      "cell_type": "code",
      "source": [
        "%%script sqlite3 --column --header chinook.db\n",
        "SELECT MIN(HireDate) FROM employees;"
      ],
      "metadata": {
        "id": "ishdZ9K3t1fh",
        "colab": {
          "base_uri": "https://localhost:8080/"
        },
        "outputId": "929efb69-3710-4282-b919-168124569e17"
      },
      "execution_count": null,
      "outputs": [
        {
          "output_type": "stream",
          "name": "stdout",
          "text": [
            "MIN(HireDate)      \n",
            "-------------------\n",
            "2002-04-01 00:00:00\n"
          ]
        }
      ]
    },
    {
      "cell_type": "markdown",
      "source": [
        "#### SUM\n"
      ],
      "metadata": {
        "id": "nLYsB9M8twMf"
      }
    },
    {
      "cell_type": "code",
      "source": [
        "# SUM on EmployeeId\n",
        "%%script sqlite3 --column --header chinook.db\n",
        "SELECT SUM(EmployeeId) FROM employees;\n"
      ],
      "metadata": {
        "colab": {
          "base_uri": "https://localhost:8080/"
        },
        "id": "ZU81IjIUsIHR",
        "outputId": "81e46029-074d-4fae-deec-250c0d373354"
      },
      "execution_count": null,
      "outputs": [
        {
          "output_type": "stream",
          "name": "stdout",
          "text": [
            "SUM(EmployeeId)\n",
            "---------------\n",
            "36             \n"
          ]
        }
      ]
    },
    {
      "cell_type": "markdown",
      "source": [
        "#### AVG\n"
      ],
      "metadata": {
        "id": "0yI5K0Z5twwB"
      }
    },
    {
      "cell_type": "code",
      "source": [
        "%%script sqlite3 --column --header chinook.db\n",
        "SELECT AVG(BirthDate) FROM employees;\n"
      ],
      "metadata": {
        "id": "HkNbzJ4mtzgD",
        "colab": {
          "base_uri": "https://localhost:8080/"
        },
        "outputId": "bb1c079c-1b0c-46a0-a2fa-fe60d91ffe48"
      },
      "execution_count": null,
      "outputs": [
        {
          "output_type": "stream",
          "name": "stdout",
          "text": [
            "AVG(BirthDate)\n",
            "--------------\n",
            "1964.5        \n"
          ]
        }
      ]
    },
    {
      "cell_type": "markdown",
      "source": [
        "#### COUNT\n",
        "\n"
      ],
      "metadata": {
        "id": "JEkDbYyutxX5"
      }
    },
    {
      "cell_type": "code",
      "source": [
        "# COUNT on EmployeeID\n",
        "%%script sqlite3 --column --header chinook.db\n",
        "SELECT COUNT(EmployeeId)\n",
        "FROM employees;\n"
      ],
      "metadata": {
        "id": "NMrvo0jE6LL9",
        "colab": {
          "base_uri": "https://localhost:8080/"
        },
        "outputId": "ec98f2bd-e624-4b26-dbd1-d5ced4d2eb02"
      },
      "execution_count": null,
      "outputs": [
        {
          "output_type": "stream",
          "name": "stdout",
          "text": [
            "COUNT(EmployeeId)\n",
            "-----------------\n",
            "8                \n"
          ]
        }
      ]
    },
    {
      "cell_type": "markdown",
      "source": [
        "## Make some plots\n",
        "\n",
        "Make some cool plots to go with your data. Write SQL queries to get ONLY the information you need for each plot. (Don't pull ALL the data and then just plot a few columns.)\n",
        "\n"
      ],
      "metadata": {
        "id": "ntL8dHJT57K8"
      }
    },
    {
      "cell_type": "code",
      "source": [],
      "metadata": {
        "id": "SZXIuqBX6L50"
      },
      "execution_count": null,
      "outputs": []
    },
    {
      "cell_type": "markdown",
      "source": [
        "## EXTRA CREDIT:\n",
        "* Use a CTE\n",
        "* Use a query that joins two or more tables.\n",
        "* Make a model to see if you can predict something\n",
        "* Come up with something else cool to do with your data\n"
      ],
      "metadata": {
        "id": "H6QrBn3n58mU"
      }
    },
    {
      "cell_type": "code",
      "source": [],
      "metadata": {
        "id": "rEZQv6vn59IP"
      },
      "execution_count": null,
      "outputs": []
    }
  ]
}